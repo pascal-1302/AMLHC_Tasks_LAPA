{
 "cells": [
  {
   "cell_type": "markdown",
   "metadata": {},
   "source": [
    "### Task 3.1 Unsupervised Learning - Clustering\n",
    "\n",
    "- Load dataset (food.csv)\n",
    "  - Use `pandas.read_csv()`\n",
    "- Preprocess data using z-transformation\n",
    "  - Use `StandardScaler` from `sklearn.preprocessing`\n",
    "- Apply KMeans clustering\n",
    "  - Use `KMeans` from `sklearn.cluster`\n",
    "  - Vary `k` from 2 to 5\n",
    "  - Compute the **Silhouette coefficient** using `metrics.silhouette_score`\n",
    "  - Select the best `k` based on the highest score\n",
    "- Visualize final KMeans clustering using PCA\n",
    "  - Use `PCA(n_components=2)` from `sklearn.decomposition`\n",
    "  - Plot clusters using `matplotlib.pyplot.scatter()`\n",
    "- Perform hierarchical clustering\n",
    "  - Use `linkage()` from `scipy.cluster.hierarchy`\n",
    "  - Plot dendrogram using `dendrogram()`\n",
    "- Create a heatmap\n",
    "  - Use `seaborn.heatmap()` for clustering of samples and variables\n",
    "- Perform density-based clustering\n",
    "  - Use `DBSCAN` from `sklearn.cluster`\n",
    "- Update Git repository\n",
    "  - Run `git add`, `git commit -m \"Clustering analysis\"`, `git push` in the terminal"
   ]
  },
  {
   "cell_type": "code",
   "execution_count": null,
   "metadata": {
    "vscode": {
     "languageId": "plaintext"
    }
   },
   "outputs": [],
   "source": []
  }
 ],
 "metadata": {
  "language_info": {
   "name": "python"
  }
 },
 "nbformat": 4,
 "nbformat_minor": 2
}
