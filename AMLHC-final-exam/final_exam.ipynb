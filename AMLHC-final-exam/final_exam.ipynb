{
 "cells": [
  {
   "cell_type": "markdown",
   "id": "7ef0684d",
   "metadata": {},
   "source": [
    "# Abschlussprüfung Modul 12 - Heart Failure Clinical Records Dataset - Machine Learning Analyse\n",
    "\n",
    "## 1. Einleitung und Zielsetzung\n",
    "\n",
    "In diesem Notebook wird der **Heart Failure Clinical Records Dataset** aus dem UCI Machine Learning Repository (https://archive.ics.uci.edu/dataset/519/heart+failure+clinical+records) analysiert.\n",
    "\n",
    "### 1.1 Wahl des Verfahrens\n",
    "**Supervised Learning**\n",
    "- Zielvariable ist bekannt (label)\n",
    "- Klassifikation, Regression\n",
    "- Lernen aus den vorhandenen Daten die Zielvariable für neue Daten vorherzusagen\n",
    "\n",
    "**Unsupervised Learning**\n",
    "- Zielvariable nicht bekannt\n",
    "- Clustering\n",
    "- Erkennen von Strukturen oder Mustern in Daten\n",
    "\n",
    "**Forschungsfrage**\n",
    "- Welche klinischen Merkmale sind mit einer erhöhten Mortalität bei Herzinsuffizienzpatienten assoziiert?\n",
    "- *Was in den klinischen Merkmalen sagt uns, ob der Patient verstirbt oder überlebt?*\n",
    "\n",
    "Das gewählte Verfahren ist Supervised Learning, da Zielvariable bekannt (verstorben oder überlebt) ist. Bei Unsupervised Learning könnte man bspw. mit Clustering Subgruppen bilden, jedoch wird die Forschungsfrage damit nicht exakt beantwortet.\n",
    "\n",
    "**Datensatzbeschreibung**\n",
    "- **299 Patienten** mit Herzinsuffizienz\n",
    "- **Features:** 13 Features wie Alter, Geschlecht, klinische Parameter\n",
    "- **Zielvariable:** `DEATH_EVENT` (0 = überlebt, 1 = verstorben)\n",
    "- **Arten von Variablen:** numerisch, kategorial (binär)\n",
    "\n",
    "---\n",
    "\n",
    "## 2. Datenvorverarbeitung (Preprocessing)\n",
    "\n",
    "### 2.1 Laden des Datensatzes und erste Exploration"
   ]
  },
  {
   "cell_type": "code",
   "execution_count": 41,
   "id": "555b109e",
   "metadata": {},
   "outputs": [
    {
     "data": {
      "application/vnd.microsoft.datawrangler.viewer.v0+json": {
       "columns": [
        {
         "name": "index",
         "rawType": "int64",
         "type": "integer"
        },
        {
         "name": "age",
         "rawType": "float64",
         "type": "float"
        },
        {
         "name": "anaemia",
         "rawType": "int64",
         "type": "integer"
        },
        {
         "name": "creatinine_phosphokinase",
         "rawType": "int64",
         "type": "integer"
        },
        {
         "name": "diabetes",
         "rawType": "int64",
         "type": "integer"
        },
        {
         "name": "ejection_fraction",
         "rawType": "int64",
         "type": "integer"
        },
        {
         "name": "high_blood_pressure",
         "rawType": "int64",
         "type": "integer"
        },
        {
         "name": "platelets",
         "rawType": "float64",
         "type": "float"
        },
        {
         "name": "serum_creatinine",
         "rawType": "float64",
         "type": "float"
        },
        {
         "name": "serum_sodium",
         "rawType": "int64",
         "type": "integer"
        },
        {
         "name": "sex",
         "rawType": "int64",
         "type": "integer"
        },
        {
         "name": "smoking",
         "rawType": "int64",
         "type": "integer"
        },
        {
         "name": "time",
         "rawType": "int64",
         "type": "integer"
        },
        {
         "name": "DEATH_EVENT",
         "rawType": "int64",
         "type": "integer"
        }
       ],
       "ref": "58a82364-c1ac-49f2-8ce3-d18afc5615d0",
       "rows": [
        [
         "0",
         "75.0",
         "0",
         "582",
         "0",
         "20",
         "1",
         "265000.0",
         "1.9",
         "130",
         "1",
         "0",
         "4",
         "1"
        ],
        [
         "1",
         "55.0",
         "0",
         "7861",
         "0",
         "38",
         "0",
         "263358.03",
         "1.1",
         "136",
         "1",
         "0",
         "6",
         "1"
        ],
        [
         "2",
         "65.0",
         "0",
         "146",
         "0",
         "20",
         "0",
         "162000.0",
         "1.3",
         "129",
         "1",
         "1",
         "7",
         "1"
        ],
        [
         "3",
         "50.0",
         "1",
         "111",
         "0",
         "20",
         "0",
         "210000.0",
         "1.9",
         "137",
         "1",
         "0",
         "7",
         "1"
        ],
        [
         "4",
         "65.0",
         "1",
         "160",
         "1",
         "20",
         "0",
         "327000.0",
         "2.7",
         "116",
         "0",
         "0",
         "8",
         "1"
        ]
       ],
       "shape": {
        "columns": 13,
        "rows": 5
       }
      },
      "text/html": [
       "<div>\n",
       "<style scoped>\n",
       "    .dataframe tbody tr th:only-of-type {\n",
       "        vertical-align: middle;\n",
       "    }\n",
       "\n",
       "    .dataframe tbody tr th {\n",
       "        vertical-align: top;\n",
       "    }\n",
       "\n",
       "    .dataframe thead th {\n",
       "        text-align: right;\n",
       "    }\n",
       "</style>\n",
       "<table border=\"1\" class=\"dataframe\">\n",
       "  <thead>\n",
       "    <tr style=\"text-align: right;\">\n",
       "      <th></th>\n",
       "      <th>age</th>\n",
       "      <th>anaemia</th>\n",
       "      <th>creatinine_phosphokinase</th>\n",
       "      <th>diabetes</th>\n",
       "      <th>ejection_fraction</th>\n",
       "      <th>high_blood_pressure</th>\n",
       "      <th>platelets</th>\n",
       "      <th>serum_creatinine</th>\n",
       "      <th>serum_sodium</th>\n",
       "      <th>sex</th>\n",
       "      <th>smoking</th>\n",
       "      <th>time</th>\n",
       "      <th>DEATH_EVENT</th>\n",
       "    </tr>\n",
       "  </thead>\n",
       "  <tbody>\n",
       "    <tr>\n",
       "      <th>0</th>\n",
       "      <td>75.0</td>\n",
       "      <td>0</td>\n",
       "      <td>582</td>\n",
       "      <td>0</td>\n",
       "      <td>20</td>\n",
       "      <td>1</td>\n",
       "      <td>265000.00</td>\n",
       "      <td>1.9</td>\n",
       "      <td>130</td>\n",
       "      <td>1</td>\n",
       "      <td>0</td>\n",
       "      <td>4</td>\n",
       "      <td>1</td>\n",
       "    </tr>\n",
       "    <tr>\n",
       "      <th>1</th>\n",
       "      <td>55.0</td>\n",
       "      <td>0</td>\n",
       "      <td>7861</td>\n",
       "      <td>0</td>\n",
       "      <td>38</td>\n",
       "      <td>0</td>\n",
       "      <td>263358.03</td>\n",
       "      <td>1.1</td>\n",
       "      <td>136</td>\n",
       "      <td>1</td>\n",
       "      <td>0</td>\n",
       "      <td>6</td>\n",
       "      <td>1</td>\n",
       "    </tr>\n",
       "    <tr>\n",
       "      <th>2</th>\n",
       "      <td>65.0</td>\n",
       "      <td>0</td>\n",
       "      <td>146</td>\n",
       "      <td>0</td>\n",
       "      <td>20</td>\n",
       "      <td>0</td>\n",
       "      <td>162000.00</td>\n",
       "      <td>1.3</td>\n",
       "      <td>129</td>\n",
       "      <td>1</td>\n",
       "      <td>1</td>\n",
       "      <td>7</td>\n",
       "      <td>1</td>\n",
       "    </tr>\n",
       "    <tr>\n",
       "      <th>3</th>\n",
       "      <td>50.0</td>\n",
       "      <td>1</td>\n",
       "      <td>111</td>\n",
       "      <td>0</td>\n",
       "      <td>20</td>\n",
       "      <td>0</td>\n",
       "      <td>210000.00</td>\n",
       "      <td>1.9</td>\n",
       "      <td>137</td>\n",
       "      <td>1</td>\n",
       "      <td>0</td>\n",
       "      <td>7</td>\n",
       "      <td>1</td>\n",
       "    </tr>\n",
       "    <tr>\n",
       "      <th>4</th>\n",
       "      <td>65.0</td>\n",
       "      <td>1</td>\n",
       "      <td>160</td>\n",
       "      <td>1</td>\n",
       "      <td>20</td>\n",
       "      <td>0</td>\n",
       "      <td>327000.00</td>\n",
       "      <td>2.7</td>\n",
       "      <td>116</td>\n",
       "      <td>0</td>\n",
       "      <td>0</td>\n",
       "      <td>8</td>\n",
       "      <td>1</td>\n",
       "    </tr>\n",
       "  </tbody>\n",
       "</table>\n",
       "</div>"
      ],
      "text/plain": [
       "    age  anaemia  creatinine_phosphokinase  diabetes  ejection_fraction  \\\n",
       "0  75.0        0                       582         0                 20   \n",
       "1  55.0        0                      7861         0                 38   \n",
       "2  65.0        0                       146         0                 20   \n",
       "3  50.0        1                       111         0                 20   \n",
       "4  65.0        1                       160         1                 20   \n",
       "\n",
       "   high_blood_pressure  platelets  serum_creatinine  serum_sodium  sex  \\\n",
       "0                    1  265000.00               1.9           130    1   \n",
       "1                    0  263358.03               1.1           136    1   \n",
       "2                    0  162000.00               1.3           129    1   \n",
       "3                    0  210000.00               1.9           137    1   \n",
       "4                    0  327000.00               2.7           116    0   \n",
       "\n",
       "   smoking  time  DEATH_EVENT  \n",
       "0        0     4            1  \n",
       "1        0     6            1  \n",
       "2        1     7            1  \n",
       "3        0     7            1  \n",
       "4        0     8            1  "
      ]
     },
     "execution_count": 41,
     "metadata": {},
     "output_type": "execute_result"
    }
   ],
   "source": [
    "import pandas as pd\n",
    "import numpy as np\n",
    "import matplotlib.pyplot as plt\n",
    "import seaborn as sns\n",
    "\n",
    "from sklearn.preprocessing import StandardScaler\n",
    "from sklearn.metrics import recall_score\n",
    "from sklearn.model_selection import GridSearchCV\n",
    "from sklearn.linear_model import LogisticRegression\n",
    "from sklearn.ensemble import RandomForestClassifier\n",
    "from sklearn.metrics import precision_recall_curve\n",
    "from sklearn.model_selection import train_test_split, cross_val_score\n",
    "from sklearn.metrics import accuracy_score, confusion_matrix, roc_auc_score, silhouette_score\n",
    "\n",
    "df = pd.read_csv('data\\\\heart_failure_clinical_records_dataset.csv', sep=',', encoding='utf-8')\n",
    "\n",
    "df.head()"
   ]
  },
  {
   "cell_type": "code",
   "execution_count": 3,
   "id": "d3a9a340",
   "metadata": {},
   "outputs": [
    {
     "data": {
      "text/plain": [
       "(299, 13)"
      ]
     },
     "execution_count": 3,
     "metadata": {},
     "output_type": "execute_result"
    }
   ],
   "source": [
    "# Gibt die Dimensionen des Datensatzes an\n",
    "df.shape"
   ]
  },
  {
   "cell_type": "code",
   "execution_count": 4,
   "id": "e6ffd7fa",
   "metadata": {},
   "outputs": [
    {
     "data": {
      "application/vnd.microsoft.datawrangler.viewer.v0+json": {
       "columns": [
        {
         "name": "index",
         "rawType": "object",
         "type": "string"
        },
        {
         "name": "0",
         "rawType": "int64",
         "type": "integer"
        }
       ],
       "ref": "756af952-2161-422e-9a40-8be9c817772b",
       "rows": [
        [
         "age",
         "0"
        ],
        [
         "anaemia",
         "0"
        ],
        [
         "creatinine_phosphokinase",
         "0"
        ],
        [
         "diabetes",
         "0"
        ],
        [
         "ejection_fraction",
         "0"
        ],
        [
         "high_blood_pressure",
         "0"
        ],
        [
         "platelets",
         "0"
        ],
        [
         "serum_creatinine",
         "0"
        ],
        [
         "serum_sodium",
         "0"
        ],
        [
         "sex",
         "0"
        ],
        [
         "smoking",
         "0"
        ],
        [
         "time",
         "0"
        ],
        [
         "DEATH_EVENT",
         "0"
        ]
       ],
       "shape": {
        "columns": 1,
        "rows": 13
       }
      },
      "text/plain": [
       "age                         0\n",
       "anaemia                     0\n",
       "creatinine_phosphokinase    0\n",
       "diabetes                    0\n",
       "ejection_fraction           0\n",
       "high_blood_pressure         0\n",
       "platelets                   0\n",
       "serum_creatinine            0\n",
       "serum_sodium                0\n",
       "sex                         0\n",
       "smoking                     0\n",
       "time                        0\n",
       "DEATH_EVENT                 0\n",
       "dtype: int64"
      ]
     },
     "execution_count": 4,
     "metadata": {},
     "output_type": "execute_result"
    }
   ],
   "source": [
    "# Prüft, wie viele fehelende Werte vorhanden sind\n",
    "df.isnull().sum()"
   ]
  },
  {
   "cell_type": "code",
   "execution_count": 5,
   "id": "38268ea9",
   "metadata": {},
   "outputs": [
    {
     "data": {
      "application/vnd.microsoft.datawrangler.viewer.v0+json": {
       "columns": [
        {
         "name": "index",
         "rawType": "object",
         "type": "string"
        },
        {
         "name": "age",
         "rawType": "float64",
         "type": "float"
        },
        {
         "name": "anaemia",
         "rawType": "float64",
         "type": "float"
        },
        {
         "name": "creatinine_phosphokinase",
         "rawType": "float64",
         "type": "float"
        },
        {
         "name": "diabetes",
         "rawType": "float64",
         "type": "float"
        },
        {
         "name": "ejection_fraction",
         "rawType": "float64",
         "type": "float"
        },
        {
         "name": "high_blood_pressure",
         "rawType": "float64",
         "type": "float"
        },
        {
         "name": "platelets",
         "rawType": "float64",
         "type": "float"
        },
        {
         "name": "serum_creatinine",
         "rawType": "float64",
         "type": "float"
        },
        {
         "name": "serum_sodium",
         "rawType": "float64",
         "type": "float"
        },
        {
         "name": "sex",
         "rawType": "float64",
         "type": "float"
        },
        {
         "name": "smoking",
         "rawType": "float64",
         "type": "float"
        },
        {
         "name": "time",
         "rawType": "float64",
         "type": "float"
        },
        {
         "name": "DEATH_EVENT",
         "rawType": "float64",
         "type": "float"
        }
       ],
       "ref": "42c1601f-3914-43ad-9177-4e01f7bed2fb",
       "rows": [
        [
         "count",
         "299.0",
         "299.0",
         "299.0",
         "299.0",
         "299.0",
         "299.0",
         "299.0",
         "299.0",
         "299.0",
         "299.0",
         "299.0",
         "299.0",
         "299.0"
        ],
        [
         "mean",
         "60.83389297658862",
         "0.431438127090301",
         "581.8394648829432",
         "0.4180602006688963",
         "38.08361204013378",
         "0.3511705685618729",
         "263358.02926421404",
         "1.3938795986622072",
         "136.62541806020067",
         "0.6488294314381271",
         "0.3210702341137124",
         "130.2608695652174",
         "0.3210702341137124"
        ],
        [
         "std",
         "11.89480907404447",
         "0.4961072681330793",
         "970.2878807124362",
         "0.49406706510360904",
         "11.834840741039171",
         "0.47813637906274475",
         "97804.2368685983",
         "1.0345100640898541",
         "4.412477283909235",
         "0.47813637906274475",
         "0.46767042805677167",
         "77.61420795029339",
         "0.46767042805677167"
        ],
        [
         "min",
         "40.0",
         "0.0",
         "23.0",
         "0.0",
         "14.0",
         "0.0",
         "25100.0",
         "0.5",
         "113.0",
         "0.0",
         "0.0",
         "4.0",
         "0.0"
        ],
        [
         "25%",
         "51.0",
         "0.0",
         "116.5",
         "0.0",
         "30.0",
         "0.0",
         "212500.0",
         "0.9",
         "134.0",
         "0.0",
         "0.0",
         "73.0",
         "0.0"
        ],
        [
         "50%",
         "60.0",
         "0.0",
         "250.0",
         "0.0",
         "38.0",
         "0.0",
         "262000.0",
         "1.1",
         "137.0",
         "1.0",
         "0.0",
         "115.0",
         "0.0"
        ],
        [
         "75%",
         "70.0",
         "1.0",
         "582.0",
         "1.0",
         "45.0",
         "1.0",
         "303500.0",
         "1.4",
         "140.0",
         "1.0",
         "1.0",
         "203.0",
         "1.0"
        ],
        [
         "max",
         "95.0",
         "1.0",
         "7861.0",
         "1.0",
         "80.0",
         "1.0",
         "850000.0",
         "9.4",
         "148.0",
         "1.0",
         "1.0",
         "285.0",
         "1.0"
        ]
       ],
       "shape": {
        "columns": 13,
        "rows": 8
       }
      },
      "text/html": [
       "<div>\n",
       "<style scoped>\n",
       "    .dataframe tbody tr th:only-of-type {\n",
       "        vertical-align: middle;\n",
       "    }\n",
       "\n",
       "    .dataframe tbody tr th {\n",
       "        vertical-align: top;\n",
       "    }\n",
       "\n",
       "    .dataframe thead th {\n",
       "        text-align: right;\n",
       "    }\n",
       "</style>\n",
       "<table border=\"1\" class=\"dataframe\">\n",
       "  <thead>\n",
       "    <tr style=\"text-align: right;\">\n",
       "      <th></th>\n",
       "      <th>age</th>\n",
       "      <th>anaemia</th>\n",
       "      <th>creatinine_phosphokinase</th>\n",
       "      <th>diabetes</th>\n",
       "      <th>ejection_fraction</th>\n",
       "      <th>high_blood_pressure</th>\n",
       "      <th>platelets</th>\n",
       "      <th>serum_creatinine</th>\n",
       "      <th>serum_sodium</th>\n",
       "      <th>sex</th>\n",
       "      <th>smoking</th>\n",
       "      <th>time</th>\n",
       "      <th>DEATH_EVENT</th>\n",
       "    </tr>\n",
       "  </thead>\n",
       "  <tbody>\n",
       "    <tr>\n",
       "      <th>count</th>\n",
       "      <td>299.000000</td>\n",
       "      <td>299.000000</td>\n",
       "      <td>299.000000</td>\n",
       "      <td>299.000000</td>\n",
       "      <td>299.000000</td>\n",
       "      <td>299.000000</td>\n",
       "      <td>299.000000</td>\n",
       "      <td>299.00000</td>\n",
       "      <td>299.000000</td>\n",
       "      <td>299.000000</td>\n",
       "      <td>299.00000</td>\n",
       "      <td>299.000000</td>\n",
       "      <td>299.00000</td>\n",
       "    </tr>\n",
       "    <tr>\n",
       "      <th>mean</th>\n",
       "      <td>60.833893</td>\n",
       "      <td>0.431438</td>\n",
       "      <td>581.839465</td>\n",
       "      <td>0.418060</td>\n",
       "      <td>38.083612</td>\n",
       "      <td>0.351171</td>\n",
       "      <td>263358.029264</td>\n",
       "      <td>1.39388</td>\n",
       "      <td>136.625418</td>\n",
       "      <td>0.648829</td>\n",
       "      <td>0.32107</td>\n",
       "      <td>130.260870</td>\n",
       "      <td>0.32107</td>\n",
       "    </tr>\n",
       "    <tr>\n",
       "      <th>std</th>\n",
       "      <td>11.894809</td>\n",
       "      <td>0.496107</td>\n",
       "      <td>970.287881</td>\n",
       "      <td>0.494067</td>\n",
       "      <td>11.834841</td>\n",
       "      <td>0.478136</td>\n",
       "      <td>97804.236869</td>\n",
       "      <td>1.03451</td>\n",
       "      <td>4.412477</td>\n",
       "      <td>0.478136</td>\n",
       "      <td>0.46767</td>\n",
       "      <td>77.614208</td>\n",
       "      <td>0.46767</td>\n",
       "    </tr>\n",
       "    <tr>\n",
       "      <th>min</th>\n",
       "      <td>40.000000</td>\n",
       "      <td>0.000000</td>\n",
       "      <td>23.000000</td>\n",
       "      <td>0.000000</td>\n",
       "      <td>14.000000</td>\n",
       "      <td>0.000000</td>\n",
       "      <td>25100.000000</td>\n",
       "      <td>0.50000</td>\n",
       "      <td>113.000000</td>\n",
       "      <td>0.000000</td>\n",
       "      <td>0.00000</td>\n",
       "      <td>4.000000</td>\n",
       "      <td>0.00000</td>\n",
       "    </tr>\n",
       "    <tr>\n",
       "      <th>25%</th>\n",
       "      <td>51.000000</td>\n",
       "      <td>0.000000</td>\n",
       "      <td>116.500000</td>\n",
       "      <td>0.000000</td>\n",
       "      <td>30.000000</td>\n",
       "      <td>0.000000</td>\n",
       "      <td>212500.000000</td>\n",
       "      <td>0.90000</td>\n",
       "      <td>134.000000</td>\n",
       "      <td>0.000000</td>\n",
       "      <td>0.00000</td>\n",
       "      <td>73.000000</td>\n",
       "      <td>0.00000</td>\n",
       "    </tr>\n",
       "    <tr>\n",
       "      <th>50%</th>\n",
       "      <td>60.000000</td>\n",
       "      <td>0.000000</td>\n",
       "      <td>250.000000</td>\n",
       "      <td>0.000000</td>\n",
       "      <td>38.000000</td>\n",
       "      <td>0.000000</td>\n",
       "      <td>262000.000000</td>\n",
       "      <td>1.10000</td>\n",
       "      <td>137.000000</td>\n",
       "      <td>1.000000</td>\n",
       "      <td>0.00000</td>\n",
       "      <td>115.000000</td>\n",
       "      <td>0.00000</td>\n",
       "    </tr>\n",
       "    <tr>\n",
       "      <th>75%</th>\n",
       "      <td>70.000000</td>\n",
       "      <td>1.000000</td>\n",
       "      <td>582.000000</td>\n",
       "      <td>1.000000</td>\n",
       "      <td>45.000000</td>\n",
       "      <td>1.000000</td>\n",
       "      <td>303500.000000</td>\n",
       "      <td>1.40000</td>\n",
       "      <td>140.000000</td>\n",
       "      <td>1.000000</td>\n",
       "      <td>1.00000</td>\n",
       "      <td>203.000000</td>\n",
       "      <td>1.00000</td>\n",
       "    </tr>\n",
       "    <tr>\n",
       "      <th>max</th>\n",
       "      <td>95.000000</td>\n",
       "      <td>1.000000</td>\n",
       "      <td>7861.000000</td>\n",
       "      <td>1.000000</td>\n",
       "      <td>80.000000</td>\n",
       "      <td>1.000000</td>\n",
       "      <td>850000.000000</td>\n",
       "      <td>9.40000</td>\n",
       "      <td>148.000000</td>\n",
       "      <td>1.000000</td>\n",
       "      <td>1.00000</td>\n",
       "      <td>285.000000</td>\n",
       "      <td>1.00000</td>\n",
       "    </tr>\n",
       "  </tbody>\n",
       "</table>\n",
       "</div>"
      ],
      "text/plain": [
       "              age     anaemia  creatinine_phosphokinase    diabetes  \\\n",
       "count  299.000000  299.000000                299.000000  299.000000   \n",
       "mean    60.833893    0.431438                581.839465    0.418060   \n",
       "std     11.894809    0.496107                970.287881    0.494067   \n",
       "min     40.000000    0.000000                 23.000000    0.000000   \n",
       "25%     51.000000    0.000000                116.500000    0.000000   \n",
       "50%     60.000000    0.000000                250.000000    0.000000   \n",
       "75%     70.000000    1.000000                582.000000    1.000000   \n",
       "max     95.000000    1.000000               7861.000000    1.000000   \n",
       "\n",
       "       ejection_fraction  high_blood_pressure      platelets  \\\n",
       "count         299.000000           299.000000     299.000000   \n",
       "mean           38.083612             0.351171  263358.029264   \n",
       "std            11.834841             0.478136   97804.236869   \n",
       "min            14.000000             0.000000   25100.000000   \n",
       "25%            30.000000             0.000000  212500.000000   \n",
       "50%            38.000000             0.000000  262000.000000   \n",
       "75%            45.000000             1.000000  303500.000000   \n",
       "max            80.000000             1.000000  850000.000000   \n",
       "\n",
       "       serum_creatinine  serum_sodium         sex    smoking        time  \\\n",
       "count         299.00000    299.000000  299.000000  299.00000  299.000000   \n",
       "mean            1.39388    136.625418    0.648829    0.32107  130.260870   \n",
       "std             1.03451      4.412477    0.478136    0.46767   77.614208   \n",
       "min             0.50000    113.000000    0.000000    0.00000    4.000000   \n",
       "25%             0.90000    134.000000    0.000000    0.00000   73.000000   \n",
       "50%             1.10000    137.000000    1.000000    0.00000  115.000000   \n",
       "75%             1.40000    140.000000    1.000000    1.00000  203.000000   \n",
       "max             9.40000    148.000000    1.000000    1.00000  285.000000   \n",
       "\n",
       "       DEATH_EVENT  \n",
       "count    299.00000  \n",
       "mean       0.32107  \n",
       "std        0.46767  \n",
       "min        0.00000  \n",
       "25%        0.00000  \n",
       "50%        0.00000  \n",
       "75%        1.00000  \n",
       "max        1.00000  "
      ]
     },
     "execution_count": 5,
     "metadata": {},
     "output_type": "execute_result"
    }
   ],
   "source": [
    "# Liefert grundlegende statistische Größen\n",
    "df.describe()"
   ]
  },
  {
   "cell_type": "code",
   "execution_count": 31,
   "id": "c586cb59",
   "metadata": {},
   "outputs": [
    {
     "data": {
      "image/png": "[encoded data removed]",
      "text/plain": [
       "<Figure size 640x480 with 1 Axes>"
      ]
     },
     "metadata": {},
     "output_type": "display_data"
    }
   ],
   "source": [
    "sns.countplot(x=df[\"DEATH_EVENT\"])\n",
    "plt.title(\"Verteilung (DEATH_EVENT)\")\n",
    "plt.xlabel(\"DEATH_EVENT (0=Überlebt, 1=Verstorben)\")\n",
    "plt.ylabel(\"Anzahl Patienten\")\n",
    "plt.show()"
   ]
  },
  {
   "cell_type": "markdown",
   "id": "c92115d1",
   "metadata": {},
   "source": [
    "### 2.2 Z-Transformation\n",
    "\n",
    "Jedes Feature wird skaliert (*Mittelwert = 0 , Standardabweichung = 1*). Speziell distanzbasierte ML Algorithmen sind empfindlich gegenüber unterschiedlich skalierten Features (*age 40 - 95 , serum_creatinine 0.5-9*). Die Gewichtung würde für Alter höher ausfallen, wenn keine Standardisierung stattfinden würde."
   ]
  },
  {
   "cell_type": "code",
   "execution_count": null,
   "id": "699bea34",
   "metadata": {},
   "outputs": [],
   "source": [
    "# features\n",
    "x = df.drop([\"DEATH_EVENT\",\"time\"], axis=1)\n",
    "\n",
    "#kat. ausnehmen\n",
    "\n",
    "# Zielvariable\n",
    "y = df[\"DEATH_EVENT\"]\n",
    "\n",
    "scaler = StandardScaler()\n",
    "x_scaled = scaler.fit_transform(x)"
   ]
  },
  {
   "cell_type": "code",
   "execution_count": 8,
   "id": "3adff026",
   "metadata": {},
   "outputs": [
    {
     "data": {
      "text/plain": [
       "array([[ 1.19294523e+00, -8.71104775e-01,  1.65728387e-04, ...,\n",
       "        -1.50403612e+00,  7.35688190e-01, -6.87681906e-01],\n",
       "       [-4.91279276e-01, -8.71104775e-01,  7.51463953e+00, ...,\n",
       "        -1.41976151e-01,  7.35688190e-01, -6.87681906e-01],\n",
       "       [ 3.50832977e-01, -8.71104775e-01, -4.49938761e-01, ...,\n",
       "        -1.73104612e+00,  7.35688190e-01,  1.45416070e+00],\n",
       "       ...,\n",
       "       [-1.33339153e+00, -8.71104775e-01,  1.52597865e+00, ...,\n",
       "         3.12043840e-01, -1.35927151e+00, -6.87681906e-01],\n",
       "       [-1.33339153e+00, -8.71104775e-01,  1.89039811e+00, ...,\n",
       "         7.66063830e-01,  7.35688190e-01,  1.45416070e+00],\n",
       "       [-9.12335403e-01, -8.71104775e-01, -3.98321274e-01, ...,\n",
       "        -1.41976151e-01,  7.35688190e-01,  1.45416070e+00]],\n",
       "      shape=(299, 11))"
      ]
     },
     "execution_count": 8,
     "metadata": {},
     "output_type": "execute_result"
    }
   ],
   "source": [
    "x_scaled"
   ]
  },
  {
   "cell_type": "markdown",
   "id": "ddd83bb6",
   "metadata": {},
   "source": [
    "---\n",
    "\n",
    "## 3. Supervised Learning\n",
    "\n",
    "Wir werden nun Supervised Learning Algorithmen anwenden, um die Zielvariable `DEATH_EVENT` vorherzusagen.\n",
    "\n",
    "### 3.1 Logistische Regression\n",
    "\n",
    "Das Modell lernt, welche Gewichtung jede Eingabevariable auf die Zielvariable hat. Mit Hilfe dieser Koeffizienten können dann die Odds Ratios berechnet werden.\n",
    "\n",
    "(+) einfaches lineares Modell mit guter Interpretierbarkeit (Odds Ratios / Koeffizienten)\n",
    "\n",
    "(+) gut für Klassifikationsaufgaben\n",
    "\n",
    "(+) geringer Datenbedarf\n",
    "\n",
    "\n",
    "(-) nur für lineare Zusammenhänge geeignet"
   ]
  },
  {
   "cell_type": "code",
   "execution_count": 19,
   "id": "a3452d76",
   "metadata": {},
   "outputs": [],
   "source": [
    "# Datensatz in Trainings- und Testdaten aufteilen\n",
    "x_train, x_test, y_train, y_test = train_test_split(x_scaled, y, test_size=0.25, random_state=42)\n",
    "\n",
    "#class_weight='balanced'\n",
    "logreg = LogisticRegression()\n",
    "\n",
    "# Trainieren des Modells\n",
    "logreg.fit(x_train, y_train)\n",
    "\n",
    "# Vorhersagen der Zielvariable\n",
    "y_pred = logreg.predict(x_test)\n",
    "\n",
    "# Wahrscheinlichkeit für Klasse 1 = verstorben\n",
    "y_prob = logreg.predict_proba(x_test)[:,1]\n",
    "\n",
    "# Berechnung der Genauigkeit der Vorhersagen\n",
    "accuracy_logreg = accuracy_score(y_test, y_pred)\n",
    "\n",
    "# Berechnung der Genauigkeit bei Schwellenwerten\n",
    "roc_auc_logreg = roc_auc_score(y_test, y_prob)\n",
    "\n",
    "# Berechnung der Konfusionsmatrix (Welche Fehler macht das Modell?)\n",
    "conf_matrix_logreg = confusion_matrix(y_test, y_pred)"
   ]
  },
  {
   "cell_type": "markdown",
   "id": "0919dc45",
   "metadata": {},
   "source": [
    "#### Odds Ratio"
   ]
  },
  {
   "cell_type": "code",
   "execution_count": 20,
   "id": "647df650",
   "metadata": {},
   "outputs": [
    {
     "data": {
      "application/vnd.microsoft.datawrangler.viewer.v0+json": {
       "columns": [
        {
         "name": "index",
         "rawType": "int64",
         "type": "integer"
        },
        {
         "name": "feature",
         "rawType": "object",
         "type": "string"
        },
        {
         "name": "Odds Ratio",
         "rawType": "float64",
         "type": "float"
        }
       ],
       "ref": "8054f922-46c1-4d9a-b3db-d73cd7343265",
       "rows": [
        [
         "7",
         "serum_creatinine",
         "2.364370345898736"
        ],
        [
         "0",
         "age",
         "2.1553644501048814"
        ],
        [
         "2",
         "creatinine_phosphokinase",
         "1.238661656871396"
        ],
        [
         "1",
         "anaemia",
         "1.1698068829842618"
        ],
        [
         "5",
         "high_blood_pressure",
         "1.1387123576704785"
        ],
        [
         "10",
         "smoking",
         "1.1199227351942111"
        ],
        [
         "3",
         "diabetes",
         "1.0688616820500942"
        ],
        [
         "8",
         "serum_sodium",
         "0.8162538771960396"
        ],
        [
         "6",
         "platelets",
         "0.8155012141712272"
        ],
        [
         "9",
         "sex",
         "0.6845345008318572"
        ],
        [
         "4",
         "ejection_fraction",
         "0.42288937570736773"
        ]
       ],
       "shape": {
        "columns": 2,
        "rows": 11
       }
      },
      "text/html": [
       "<div>\n",
       "<style scoped>\n",
       "    .dataframe tbody tr th:only-of-type {\n",
       "        vertical-align: middle;\n",
       "    }\n",
       "\n",
       "    .dataframe tbody tr th {\n",
       "        vertical-align: top;\n",
       "    }\n",
       "\n",
       "    .dataframe thead th {\n",
       "        text-align: right;\n",
       "    }\n",
       "</style>\n",
       "<table border=\"1\" class=\"dataframe\">\n",
       "  <thead>\n",
       "    <tr style=\"text-align: right;\">\n",
       "      <th></th>\n",
       "      <th>feature</th>\n",
       "      <th>Odds Ratio</th>\n",
       "    </tr>\n",
       "  </thead>\n",
       "  <tbody>\n",
       "    <tr>\n",
       "      <th>7</th>\n",
       "      <td>serum_creatinine</td>\n",
       "      <td>2.364370</td>\n",
       "    </tr>\n",
       "    <tr>\n",
       "      <th>0</th>\n",
       "      <td>age</td>\n",
       "      <td>2.155364</td>\n",
       "    </tr>\n",
       "    <tr>\n",
       "      <th>2</th>\n",
       "      <td>creatinine_phosphokinase</td>\n",
       "      <td>1.238662</td>\n",
       "    </tr>\n",
       "    <tr>\n",
       "      <th>1</th>\n",
       "      <td>anaemia</td>\n",
       "      <td>1.169807</td>\n",
       "    </tr>\n",
       "    <tr>\n",
       "      <th>5</th>\n",
       "      <td>high_blood_pressure</td>\n",
       "      <td>1.138712</td>\n",
       "    </tr>\n",
       "    <tr>\n",
       "      <th>10</th>\n",
       "      <td>smoking</td>\n",
       "      <td>1.119923</td>\n",
       "    </tr>\n",
       "    <tr>\n",
       "      <th>3</th>\n",
       "      <td>diabetes</td>\n",
       "      <td>1.068862</td>\n",
       "    </tr>\n",
       "    <tr>\n",
       "      <th>8</th>\n",
       "      <td>serum_sodium</td>\n",
       "      <td>0.816254</td>\n",
       "    </tr>\n",
       "    <tr>\n",
       "      <th>6</th>\n",
       "      <td>platelets</td>\n",
       "      <td>0.815501</td>\n",
       "    </tr>\n",
       "    <tr>\n",
       "      <th>9</th>\n",
       "      <td>sex</td>\n",
       "      <td>0.684535</td>\n",
       "    </tr>\n",
       "    <tr>\n",
       "      <th>4</th>\n",
       "      <td>ejection_fraction</td>\n",
       "      <td>0.422889</td>\n",
       "    </tr>\n",
       "  </tbody>\n",
       "</table>\n",
       "</div>"
      ],
      "text/plain": [
       "                     feature  Odds Ratio\n",
       "7           serum_creatinine    2.364370\n",
       "0                        age    2.155364\n",
       "2   creatinine_phosphokinase    1.238662\n",
       "1                    anaemia    1.169807\n",
       "5        high_blood_pressure    1.138712\n",
       "10                   smoking    1.119923\n",
       "3                   diabetes    1.068862\n",
       "8               serum_sodium    0.816254\n",
       "6                  platelets    0.815501\n",
       "9                        sex    0.684535\n",
       "4          ejection_fraction    0.422889"
      ]
     },
     "execution_count": 20,
     "metadata": {},
     "output_type": "execute_result"
    }
   ],
   "source": [
    "#Gewichtung\n",
    "coefficients = logreg.coef_[0]\n",
    "odds_ratios = np.exp(coefficients)\n",
    "\n",
    "features = x.columns  \n",
    "\n",
    "odds_df = pd.DataFrame({\n",
    "    'feature': features,\n",
    "    'Odds Ratio': odds_ratios\n",
    "})\n",
    "\n",
    "odds_df = odds_df.sort_values(by='Odds Ratio', ascending=False)\n",
    "\n",
    "odds_df"
   ]
  },
  {
   "cell_type": "code",
   "execution_count": 11,
   "id": "42dd9e9e",
   "metadata": {},
   "outputs": [
    {
     "data": {
      "image/png": "[encoded data removed]",
      "text/plain": [
       "<Figure size 1000x400 with 1 Axes>"
      ]
     },
     "metadata": {},
     "output_type": "display_data"
    }
   ],
   "source": [
    "plt.figure(figsize=(10,4))\n",
    "sns.barplot(x='Odds Ratio', y='feature', data=odds_df, color='y')\n",
    "plt.axvline(1, color='black', linestyle='--')\n",
    "plt.title(\"Odds Ratios der Logistischen Regression\")\n",
    "plt.xlabel(\"Odds Ratio\")\n",
    "plt.ylabel(\"Feature\")\n",
    "plt.grid(axis='x')\n",
    "plt.show()"
   ]
  },
  {
   "cell_type": "markdown",
   "id": "d6254af6",
   "metadata": {},
   "source": [
    "#### Modellbewertung"
   ]
  },
  {
   "cell_type": "code",
   "execution_count": 39,
   "id": "c432611f",
   "metadata": {},
   "outputs": [
    {
     "name": "stdout",
     "output_type": "stream",
     "text": [
      "Accuracy: 0.67\n",
      "ROC AUC: 0.74\n",
      "Recall für Verstorbene: 0.35\n"
     ]
    },
    {
     "data": {
      "image/png": "[encoded data removed]",
      "text/plain": [
       "<Figure size 1000x400 with 2 Axes>"
      ]
     },
     "metadata": {},
     "output_type": "display_data"
    }
   ],
   "source": [
    "recall = recall_score(y_test, y_pred)\n",
    "\n",
    "print(f\"Accuracy: {accuracy_logreg:.2f}\")\n",
    "print(f\"ROC AUC: {roc_auc_logreg:.2f}\")\n",
    "print(f\"Recall für Verstorbene: {recall:.2f}\")\n",
    "\n",
    "plt.figure(figsize=(10,4))\n",
    "sns.heatmap(conf_matrix_logreg, annot=True, fmt='d', cmap='YlOrBr',\n",
    "            xticklabels=['überlebt', 'verstorben'],\n",
    "            yticklabels=['überlebt', 'verstorben'])\n",
    "plt.xlabel('Vorhergesagte Klasse')\n",
    "plt.ylabel('Tatsächliche Klasse')\n",
    "plt.title('Confusion Matrix')\n",
    "plt.show()"
   ]
  },
  {
   "cell_type": "markdown",
   "id": "0b0cd3d8",
   "metadata": {},
   "source": [
    "#### Interpretation\n",
    "\n",
    "**Accuracy**\n",
    "\n",
    "Es wurden 67% der Patienten korrekt klassifiziert. \n",
    "\n",
    "**ROC AUC**\n",
    "\n",
    "Die Fläche unter der ROC-Kurve (Receiver Operating Characteristic Curve) mit 74% bedeutet, dass in 74% der Fälle zwischen einen zufällig gewählten verstorbenen Patienten und einem überlebendem Patienten unterschieden werden kann.\n",
    "In der Medizin spricht man im Bereich von 70% bis 90% von einem moderaten AUC-Wert (Area Under the Curve).\n",
    "\n",
    "**Confusion Matrix**\n",
    "\n",
    "TN (tatsächlich überlebt als überlebt erkannt) = 39\n",
    "\n",
    "FP (tatsächlcih überlebt als verstorben erkannt) = 5\n",
    "\n",
    "FN (tatsächlich verstorben als überlebt erkannt) = 20       (**kritisch**)\n",
    "\n",
    "TP (tatsächlich verstorben als verstorben erkannt) = 11 "
   ]
  },
  {
   "cell_type": "markdown",
   "id": "e63f7e75",
   "metadata": {},
   "source": [
    "### 3.2 Random Forest Classifier\n",
    "\n",
    "Bei einem Random Forest werden mehrere Entscheidungsbäume (Serie aus Ja/Nein-Fragen mit Klasse am Ende eines Blattes) miteinander kombiniert, um dem Overfitting entgegenzuwirken. \n",
    "\n",
    "- Ensemble aus vielen Entscheidungsbäumen; jeder Baum wird mit einem zufälligem Subset der Daten trainiert\n",
    "- Mehrheitsvotum der Bäume wird für die finale Vorhersage verwendet\n",
    "- Sehr robust durch die Zufallsselektion von Daten und Features und Kombination mehrere Bäume\n",
    "- Geeignet für komplexe, nicht-lineare Zusammenhänge\n"
   ]
  },
  {
   "cell_type": "code",
   "execution_count": 27,
   "id": "c9b23287",
   "metadata": {},
   "outputs": [],
   "source": [
    "# Random Forest mit Anzahl der Entscheidungsbäume (je mehr Bäume, desto stabiler)\n",
    "rf = RandomForestClassifier(n_estimators=200, min_samples_leaf=1, min_samples_split=10, max_depth=5, random_state=42, class_weight='balanced')\n",
    "\n",
    "# Fünffache Cross Validation (4 Teile als Training, 1 Teil als Test)\n",
    "cv_scores_rf = cross_val_score(rf, x_scaled, y, cv=5)\n",
    "\n",
    "rf.fit(x_train, y_train)\n",
    "\n",
    "y_pred_rf = rf.predict(x_test)\n",
    "y_prob_rf = rf.predict_proba(x_test)[:,1]\n",
    "\n",
    "accuracy_rf = accuracy_score(y_test, y_pred_rf)\n",
    "roc_auc_rf = roc_auc_score(y_test, y_prob_rf)\n",
    "conf_matrix_rf = confusion_matrix(y_test, y_pred_rf)"
   ]
  },
  {
   "cell_type": "code",
   "execution_count": 26,
   "id": "c45916ae",
   "metadata": {},
   "outputs": [
    {
     "name": "stdout",
     "output_type": "stream",
     "text": [
      "Beste Parameter: {'max_depth': 5, 'min_samples_leaf': 1, 'min_samples_split': 10, 'n_estimators': 200}\n",
      "Beste ROC AUC: 0.8186259305210918\n"
     ]
    }
   ],
   "source": [
    "param_grid = {\n",
    "    'n_estimators': [100, 200, 300],\n",
    "    'max_depth': [None, 5, 10, 15],\n",
    "    'min_samples_split': [2, 5, 10],\n",
    "    'min_samples_leaf': [1, 2, 5]\n",
    "}\n",
    "\n",
    "grid_rf = GridSearchCV(RandomForestClassifier(random_state=42, class_weight='balanced'), param_grid, cv=5, scoring='roc_auc')\n",
    "grid_rf.fit(x_train, y_train)\n",
    "\n",
    "print(\"Beste Parameter:\", grid_rf.best_params_)\n",
    "print(\"Beste ROC AUC:\", grid_rf.best_score_)"
   ]
  },
  {
   "cell_type": "markdown",
   "id": "b25d7a87",
   "metadata": {},
   "source": [
    "**Feature Importance**\n",
    "\n",
    "Für jedes Feature wird eine Wichtigkeit (Importance) berechnet. Der Wert liegt zwischen 0 und 1 und gibt an, wie wichtig das Feature für die Klassifikation war."
   ]
  },
  {
   "cell_type": "code",
   "execution_count": 46,
   "id": "7567c8dc",
   "metadata": {},
   "outputs": [
    {
     "data": {
      "image/png": "[encoded data removed]",
      "text/plain": [
       "<Figure size 1000x400 with 1 Axes>"
      ]
     },
     "metadata": {},
     "output_type": "display_data"
    }
   ],
   "source": [
    "importances = rf.feature_importances_\n",
    "features = df.drop([\"DEATH_EVENT\",\"time\"], axis=1).columns\n",
    "\n",
    "plt.figure(figsize=(10,4))\n",
    "sns.barplot(x=importances, y=features)\n",
    "plt.title(\"Feature Importances\")\n",
    "plt.show()"
   ]
  },
  {
   "cell_type": "markdown",
   "id": "23a357a5",
   "metadata": {},
   "source": [
    "#### Modellbewertung"
   ]
  },
  {
   "cell_type": "code",
   "execution_count": 44,
   "id": "465cbd2c",
   "metadata": {},
   "outputs": [
    {
     "name": "stdout",
     "output_type": "stream",
     "text": [
      "Accuracy: 0.65\n",
      "ROC AUC: 0.79\n",
      "Recall für Verstorbene: 0.48\n"
     ]
    },
    {
     "data": {
      "image/png": "[encoded data removed]",
      "text/plain": [
       "<Figure size 1000x400 with 2 Axes>"
      ]
     },
     "metadata": {},
     "output_type": "display_data"
    }
   ],
   "source": [
    "recall_rf = recall_score(y_test, y_pred_rf)\n",
    "\n",
    "print(f\"Accuracy: {accuracy_rf:.2f}\")\n",
    "print(f\"ROC AUC: {roc_auc_rf:.2f}\")\n",
    "print(f\"Recall für Verstorbene: {recall_rf:.2f}\")\n",
    "\n",
    "plt.figure(figsize=(10,4))\n",
    "sns.heatmap(conf_matrix_rf, annot=True, fmt='d', cmap='YlOrBr',\n",
    "            xticklabels=['überlebt', 'verstorben'],\n",
    "            yticklabels=['überlebt', 'verstorben'])\n",
    "plt.xlabel('Vorhergesagte Klasse')\n",
    "plt.ylabel('Tatsächliche Klasse')\n",
    "plt.title('Confusion Matrix')\n",
    "plt.show()"
   ]
  },
  {
   "cell_type": "markdown",
   "id": "e49aec30",
   "metadata": {},
   "source": [
    "### 3.3 Vergleich Recall beider Verfahren"
   ]
  },
  {
   "cell_type": "code",
   "execution_count": 47,
   "id": "e7bc8a93",
   "metadata": {},
   "outputs": [
    {
     "data": {
      "image/png": "[encoded data removed]",
      "text/plain": [
       "<Figure size 1000x600 with 1 Axes>"
      ]
     },
     "metadata": {},
     "output_type": "display_data"
    }
   ],
   "source": [
    "# Berechne Precision-Recall für RF\n",
    "precision_rf, recall_rf, thresholds_rf = precision_recall_curve(y_test, y_prob_rf)\n",
    "\n",
    "# Berechne Precision-Recall für LogReg\n",
    "precision_logreg, recall_logreg, thresholds_logreg = precision_recall_curve(y_test, y_prob)\n",
    "\n",
    "plt.figure(figsize=(10,6))\n",
    "plt.plot(recall_rf, precision_rf, label='Random Forest', linewidth=2)\n",
    "plt.plot(recall_logreg, precision_logreg, label='Logistische Regression', linewidth=2, linestyle='--')\n",
    "\n",
    "plt.title('Precision-Recall Curve (Randomforest vs. Logistischer Regression)')\n",
    "plt.xlabel('Recall (Sensitivität)')\n",
    "plt.ylabel('Precision (TP)')\n",
    "plt.legend(loc='lower left')\n",
    "plt.grid()\n",
    "plt.show()"
   ]
  },
  {
   "cell_type": "markdown",
   "id": "dfe90a0e",
   "metadata": {},
   "source": [
    "Recall (=Sensitvität) bedeutet in unserem Fall, wie viele der tatsächlich verstorbenen Patienten erkannt werden. (True Positive)\n",
    "\n",
    "Precision drückt aus, wie viele der als vorhergesagter verstorbener Patienten wirklich verstorben sind. (TP / (TP + FP))"
   ]
  }
 ],
 "metadata": {
  "kernelspec": {
   "display_name": "venv",
   "language": "python",
   "name": "python3"
  },
  "language_info": {
   "codemirror_mode": {
    "name": "ipython",
    "version": 3
   },
   "file_extension": ".py",
   "mimetype": "text/x-python",
   "name": "python",
   "nbconvert_exporter": "python",
   "pygments_lexer": "ipython3",
   "version": "3.13.1"
  }
 },
 "nbformat": 4,
 "nbformat_minor": 5
}
