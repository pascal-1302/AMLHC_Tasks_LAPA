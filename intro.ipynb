{
 "cells": [
  {
   "cell_type": "markdown",
   "metadata": {},
   "source": [
    "### Einführung in Python"
   ]
  },
  {
   "cell_type": "code",
   "execution_count": 1,
   "metadata": {},
   "outputs": [
    {
     "name": "stdout",
     "output_type": "stream",
     "text": [
      "Hello World!\n"
     ]
    }
   ],
   "source": [
    "print(\"Hello World!\")"
   ]
  },
  {
   "cell_type": "code",
   "execution_count": 4,
   "metadata": {},
   "outputs": [
    {
     "name": "stdout",
     "output_type": "stream",
     "text": [
      "Hello Pascal\n",
      "Help on function greet in module __main__:\n",
      "\n",
      "greet(name)\n",
      "    Diese Funktion gibt eine Begrüßung aus.\n",
      "\n"
     ]
    }
   ],
   "source": [
    "\n",
    "def greet(name):\n",
    "    \"\"\"Diese Funktion gibt eine Begrüßung aus.\"\"\"\n",
    "    print(\"Hello \" + name)\n",
    "\n",
    "greet(\"Pascal\")\n",
    "\n",
    "help(greet)"
   ]
  },
  {
   "cell_type": "code",
   "execution_count": null,
   "metadata": {},
   "outputs": [
    {
     "name": "stdout",
     "output_type": "stream",
     "text": [
      "in loop 3\n",
      "in loop 4\n",
      "Max\n",
      "3\n"
     ]
    }
   ],
   "source": [
    "for i in range(3, 5):\n",
    "    print (\"in loop \" + str(i))\n",
    "\n",
    "my_list = [\"Max\", \"Susi\", \"Peter\"]\n",
    "\n",
    "print(my_list[0])\n",
    "print(len(my_list))"
   ]
  },
  {
   "cell_type": "code",
   "execution_count": null,
   "metadata": {},
   "outputs": [
    {
     "name": "stdout",
     "output_type": "stream",
     "text": [
      "3.33\n"
     ]
    }
   ],
   "source": [
    "import numpy as np\n",
    "import math\n",
    "\n",
    "mean = np.mean([3, 2, 5])\n",
    "\n",
    "print(math.floor(mean*100)/100) #round to two decimal places"
   ]
  },
  {
   "cell_type": "markdown",
   "metadata": {},
   "source": [
    "### Task 1.1\n",
    "\n",
    "- Create a subdirectory python of src (i.e., src/python).\n",
    "- Create a Jupyter notebook (intro.ipynb) file in src/python.\n",
    "    Use markdown to structure the file. \n",
    "- Create a code chunk with a function `calcMeans` that calculate the mean values of a given dataframe (parameter dataframe). Use `apply` function. You can use describe function to validate your results. \n",
    "- Call function `calcMeans` in another code chunk using numeric features of iris dataset.\n",
    "    `from sklearn import datasets`\n",
    "    `iris = datasets.load_iris(return_X_y=True, as_frame=True)`\n",
    "\n",
    "Note: `ndarray` return type is more efficient\n",
    "\n",
    "Update your git repository"
   ]
  },
  {
   "cell_type": "code",
   "execution_count": 84,
   "metadata": {},
   "outputs": [],
   "source": [
    "import pandas as pd\n",
    "\n",
    "def calcMeans(input_df: pd.DataFrame):\n",
    "    #sum up all values (by column) and divide them by the number of elements per column\n",
    "    return input_df.apply(sum) / input_df.shape[0]"
   ]
  },
  {
   "cell_type": "code",
   "execution_count": 89,
   "metadata": {},
   "outputs": [
    {
     "name": "stdout",
     "output_type": "stream",
     "text": [
      "     A    B\n",
      "0   12   12\n",
      "1   12  111\n",
      "2  123   20\n",
      "3   35   30\n"
     ]
    }
   ],
   "source": [
    "my_df = pd.DataFrame({'A': [12, 12, 123, 35], 'B': [12, 111, 20, 30]})\n",
    "\n",
    "print(my_df)"
   ]
  },
  {
   "cell_type": "code",
   "execution_count": 90,
   "metadata": {},
   "outputs": [
    {
     "name": "stdout",
     "output_type": "stream",
     "text": [
      "A    45.50\n",
      "B    43.25\n",
      "dtype: float64\n"
     ]
    }
   ],
   "source": [
    "print(calcMeans(my_df))"
   ]
  },
  {
   "cell_type": "code",
   "execution_count": 86,
   "metadata": {},
   "outputs": [
    {
     "name": "stdout",
     "output_type": "stream",
     "text": [
      "                A           B\n",
      "count    4.000000    4.000000\n",
      "mean    45.500000   43.250000\n",
      "std     52.792045   45.762976\n",
      "min     12.000000   12.000000\n",
      "25%     12.000000   18.000000\n",
      "50%     23.500000   25.000000\n",
      "75%     57.000000   50.250000\n",
      "max    123.000000  111.000000\n"
     ]
    }
   ],
   "source": [
    "print(my_df.describe())"
   ]
  },
  {
   "cell_type": "code",
   "execution_count": 87,
   "metadata": {},
   "outputs": [
    {
     "name": "stdout",
     "output_type": "stream",
     "text": [
      "<class 'pandas.core.frame.DataFrame'>\n"
     ]
    }
   ],
   "source": [
    "from sklearn import datasets\n",
    "\n",
    "iris = datasets.load_iris(return_X_y=True, as_frame=True)\n",
    "iris = iris[0] #in order to get the correct datatype (DataFrame)\n",
    "\n",
    "print(type(iris))\n"
   ]
  },
  {
   "cell_type": "code",
   "execution_count": 88,
   "metadata": {},
   "outputs": [
    {
     "name": "stdout",
     "output_type": "stream",
     "text": [
      "       sepal length (cm)  sepal width (cm)  petal length (cm)  petal width (cm)\n",
      "count         150.000000        150.000000         150.000000        150.000000\n",
      "mean            5.843333          3.057333           3.758000          1.199333\n",
      "std             0.828066          0.435866           1.765298          0.762238\n",
      "min             4.300000          2.000000           1.000000          0.100000\n",
      "25%             5.100000          2.800000           1.600000          0.300000\n",
      "50%             5.800000          3.000000           4.350000          1.300000\n",
      "75%             6.400000          3.300000           5.100000          1.800000\n",
      "max             7.900000          4.400000           6.900000          2.500000\n"
     ]
    }
   ],
   "source": [
    "print(iris.describe())"
   ]
  },
  {
   "cell_type": "code",
   "execution_count": 80,
   "metadata": {},
   "outputs": [
    {
     "name": "stdout",
     "output_type": "stream",
     "text": [
      "sepal length (cm)    5.843333\n",
      "sepal width (cm)     3.057333\n",
      "petal length (cm)    3.758000\n",
      "petal width (cm)     1.199333\n",
      "dtype: float64\n"
     ]
    }
   ],
   "source": [
    "print(calcMeans(iris))"
   ]
  }
 ],
 "metadata": {
  "kernelspec": {
   "display_name": "venv",
   "language": "python",
   "name": "python3"
  },
  "language_info": {
   "codemirror_mode": {
    "name": "ipython",
    "version": 3
   },
   "file_extension": ".py",
   "mimetype": "text/x-python",
   "name": "python",
   "nbconvert_exporter": "python",
   "pygments_lexer": "ipython3",
   "version": "3.13.1"
  }
 },
 "nbformat": 4,
 "nbformat_minor": 2
}
