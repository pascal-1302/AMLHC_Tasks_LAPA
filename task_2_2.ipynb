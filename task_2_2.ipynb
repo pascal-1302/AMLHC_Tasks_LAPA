{
 "cells": [
  {
   "cell_type": "markdown",
   "metadata": {},
   "source": [
    "### Task 2.2 Supervised preprocessing and visualization\n",
    "\n",
    "- Load dataset (diabetes.csv)\n",
    "  - Use `pandas.read_csv()`\n",
    "- Define and apply IQR-based outlier detection\n",
    "  - Compute IQR (Q3 - Q1) for numerical features\n",
    "  - Mark values outside [Q1 - 1.5*IQR, Q3 + 1.5*IQR] as outliers\n",
    "- Replace outliers with NA and select complete cases\n",
    "  - Use `numpy.nan` to replace outliers\n",
    "  - Drop rows with missing values using dropna()\n",
    "  - Consider the meaning of zeros before removal\n",
    "- [Optional] Describe single features\n",
    "  - Use pandas.describe() for summary statistics\n",
    "- Rank features using Chi-squared statistics\n",
    "  - Use chi2 from sklearn.feature_selection\n",
    "  - Identify the most and least discriminating features\n",
    "- Create boxplot and distribution plots\n",
    "  - Use seaborn.boxplot() for boxplots\n",
    "  - Use seaborn.histplot() or matplotlib.pyplot.hist() for distribution plots\n",
    "  - Compare the highest and lowest ranked features\n",
    "- Update Git repository\n",
    "  - Run `git add`, `git commit -m \"Feature selection and visualization\"`, `git push` in the terminal"
   ]
  },
  {
   "cell_type": "code",
   "execution_count": null,
   "metadata": {
    "vscode": {
     "languageId": "plaintext"
    }
   },
   "outputs": [],
   "source": []
  }
 ],
 "metadata": {
  "language_info": {
   "name": "python"
  }
 },
 "nbformat": 4,
 "nbformat_minor": 2
}
