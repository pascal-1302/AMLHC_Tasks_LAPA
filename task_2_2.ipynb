{
 "cells": [
  {
   "cell_type": "markdown",
   "metadata": {},
   "source": [
    "### Task 2.2 Supervised preprocessing and visualization\n",
    "\n",
    "- Load dataset diabetes.csv\n",
    "- Define and apply a function for IQR based outlier detection \n",
    "- Replace outliers with NA and select only complete cases (function complete.cases or drop_na if using tidyvers). Consider of the meaning of zeros. \n",
    "  [Optional: Describe single features (R function describe of package Hmisc)]\n",
    "- Rank features using Chi-squared statistics or information gain (package FSelector)\n",
    "- Create boxplot and distribution plots of one discriminating (i.e., highest IG score) and one non-discriminating feature (i.e., smallest IG score)\n",
    "- `from sklearn.feature_selection import chi2`\n",
    "\n",
    "Update your git repository"
   ]
  }
 ],
 "metadata": {
  "language_info": {
   "name": "python"
  }
 },
 "nbformat": 4,
 "nbformat_minor": 2
}
