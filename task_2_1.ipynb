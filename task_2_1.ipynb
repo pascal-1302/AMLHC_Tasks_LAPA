{
 "cells": [
  {
   "cell_type": "markdown",
   "metadata": {},
   "source": [
    "### Task 2.1 Unsupervised preprocessing and visualization\n",
    "\n",
    "- Load dataset (food.csv)\n",
    "  - Use `pandas.read_csv()`\n",
    "- Analyze dataset\n",
    "  - Check dimensions with `.shape`\n",
    "  - Count missing values with `.isnull().sum()`\n",
    "  - Get feature statistics with `.describe()`\n",
    "- Preprocess data using z-transformation\n",
    "  - Use `StandardScaler` from `sklearn.preprocessing`\n",
    "- Perform PCA\n",
    "  - Use PCA from `sklearn.decomposition`\n",
    "  - Set n_components=2 to extract PC1 and PC2\n",
    "- Create score plot\n",
    "  - Use `matplotlib.pyplot.scatter()`\n",
    "  - Label axes as \"PC1\" and \"PC2\"\n",
    "- Update Git repository\n",
    "  - Run `git add`, `git commit -m \"your message\"`, `git push` in the terminal"
   ]
  },
  {
   "cell_type": "code",
   "execution_count": 95,
   "metadata": {},
   "outputs": [],
   "source": [
    "import pandas as pd\n",
    "import matplotlib.pyplot as plt\n",
    "from sklearn.preprocessing import StandardScaler\n",
    "from sklearn.decomposition import PCA\n",
    "\n",
    "\n",
    "data = pd.read_csv(\"./assets/food.csv\")"
   ]
  },
  {
   "cell_type": "code",
   "execution_count": 96,
   "metadata": {},
   "outputs": [
    {
     "data": {
      "text/plain": [
       "(25, 10)"
      ]
     },
     "execution_count": 96,
     "metadata": {},
     "output_type": "execute_result"
    }
   ],
   "source": [
    "data.shape"
   ]
  },
  {
   "cell_type": "code",
   "execution_count": 97,
   "metadata": {},
   "outputs": [
    {
     "data": {
      "text/plain": [
       "Unnamed: 0    0\n",
       "RedMeat       0\n",
       "WhiteMeat     0\n",
       "Eggs          0\n",
       "Milk          0\n",
       "Fish          0\n",
       "Cereals       0\n",
       "Starch        0\n",
       "Nuts          0\n",
       "Fr.Veg        0\n",
       "dtype: int64"
      ]
     },
     "execution_count": 97,
     "metadata": {},
     "output_type": "execute_result"
    }
   ],
   "source": [
    "data.isnull().sum()"
   ]
  },
  {
   "cell_type": "code",
   "execution_count": 98,
   "metadata": {},
   "outputs": [
    {
     "data": {
      "application/vnd.microsoft.datawrangler.viewer.v0+json": {
       "columns": [
        {
         "name": "index",
         "rawType": "object",
         "type": "string"
        },
        {
         "name": "RedMeat",
         "rawType": "float64",
         "type": "float"
        },
        {
         "name": "WhiteMeat",
         "rawType": "float64",
         "type": "float"
        },
        {
         "name": "Eggs",
         "rawType": "float64",
         "type": "float"
        },
        {
         "name": "Milk",
         "rawType": "float64",
         "type": "float"
        },
        {
         "name": "Fish",
         "rawType": "float64",
         "type": "float"
        },
        {
         "name": "Cereals",
         "rawType": "float64",
         "type": "float"
        },
        {
         "name": "Starch",
         "rawType": "float64",
         "type": "float"
        },
        {
         "name": "Nuts",
         "rawType": "float64",
         "type": "float"
        },
        {
         "name": "Fr.Veg",
         "rawType": "float64",
         "type": "float"
        }
       ],
       "conversionMethod": "pd.DataFrame",
       "ref": "7f278c3e-15f5-4903-84f9-3c9a7cd3f057",
       "rows": [
        [
         "count",
         "25.0",
         "25.0",
         "25.0",
         "25.0",
         "25.0",
         "25.0",
         "25.0",
         "25.0",
         "25.0"
        ],
        [
         "mean",
         "9.828000000000001",
         "7.896",
         "2.9359999999999995",
         "17.112000000000002",
         "4.284",
         "32.248000000000005",
         "4.276",
         "3.072",
         "4.136"
        ],
        [
         "std",
         "3.3470783279351757",
         "3.694080850947003",
         "1.1176165114504468",
         "7.10541577483917",
         "3.402533369907389",
         "10.974786254562469",
         "1.6340848611174799",
         "1.9856820826439798",
         "1.8039031755243036"
        ],
        [
         "min",
         "4.4",
         "1.4",
         "0.5",
         "4.9",
         "0.2",
         "18.6",
         "0.6",
         "0.7",
         "1.4"
        ],
        [
         "25%",
         "7.8",
         "4.9",
         "2.7",
         "11.1",
         "2.1",
         "24.3",
         "3.1",
         "1.5",
         "2.9"
        ],
        [
         "50%",
         "9.5",
         "7.8",
         "2.9",
         "17.6",
         "3.4",
         "28.0",
         "4.7",
         "2.4",
         "3.8"
        ],
        [
         "75%",
         "10.6",
         "10.8",
         "3.7",
         "23.3",
         "5.8",
         "40.1",
         "5.7",
         "4.7",
         "4.9"
        ],
        [
         "max",
         "18.0",
         "14.0",
         "4.7",
         "33.7",
         "14.2",
         "56.7",
         "6.5",
         "7.8",
         "7.9"
        ]
       ],
       "shape": {
        "columns": 9,
        "rows": 8
       }
      },
      "text/html": [
       "<div>\n",
       "<style scoped>\n",
       "    .dataframe tbody tr th:only-of-type {\n",
       "        vertical-align: middle;\n",
       "    }\n",
       "\n",
       "    .dataframe tbody tr th {\n",
       "        vertical-align: top;\n",
       "    }\n",
       "\n",
       "    .dataframe thead th {\n",
       "        text-align: right;\n",
       "    }\n",
       "</style>\n",
       "<table border=\"1\" class=\"dataframe\">\n",
       "  <thead>\n",
       "    <tr style=\"text-align: right;\">\n",
       "      <th></th>\n",
       "      <th>RedMeat</th>\n",
       "      <th>WhiteMeat</th>\n",
       "      <th>Eggs</th>\n",
       "      <th>Milk</th>\n",
       "      <th>Fish</th>\n",
       "      <th>Cereals</th>\n",
       "      <th>Starch</th>\n",
       "      <th>Nuts</th>\n",
       "      <th>Fr.Veg</th>\n",
       "    </tr>\n",
       "  </thead>\n",
       "  <tbody>\n",
       "    <tr>\n",
       "      <th>count</th>\n",
       "      <td>25.000000</td>\n",
       "      <td>25.000000</td>\n",
       "      <td>25.000000</td>\n",
       "      <td>25.000000</td>\n",
       "      <td>25.000000</td>\n",
       "      <td>25.000000</td>\n",
       "      <td>25.000000</td>\n",
       "      <td>25.000000</td>\n",
       "      <td>25.000000</td>\n",
       "    </tr>\n",
       "    <tr>\n",
       "      <th>mean</th>\n",
       "      <td>9.828000</td>\n",
       "      <td>7.896000</td>\n",
       "      <td>2.936000</td>\n",
       "      <td>17.112000</td>\n",
       "      <td>4.284000</td>\n",
       "      <td>32.248000</td>\n",
       "      <td>4.276000</td>\n",
       "      <td>3.072000</td>\n",
       "      <td>4.136000</td>\n",
       "    </tr>\n",
       "    <tr>\n",
       "      <th>std</th>\n",
       "      <td>3.347078</td>\n",
       "      <td>3.694081</td>\n",
       "      <td>1.117617</td>\n",
       "      <td>7.105416</td>\n",
       "      <td>3.402533</td>\n",
       "      <td>10.974786</td>\n",
       "      <td>1.634085</td>\n",
       "      <td>1.985682</td>\n",
       "      <td>1.803903</td>\n",
       "    </tr>\n",
       "    <tr>\n",
       "      <th>min</th>\n",
       "      <td>4.400000</td>\n",
       "      <td>1.400000</td>\n",
       "      <td>0.500000</td>\n",
       "      <td>4.900000</td>\n",
       "      <td>0.200000</td>\n",
       "      <td>18.600000</td>\n",
       "      <td>0.600000</td>\n",
       "      <td>0.700000</td>\n",
       "      <td>1.400000</td>\n",
       "    </tr>\n",
       "    <tr>\n",
       "      <th>25%</th>\n",
       "      <td>7.800000</td>\n",
       "      <td>4.900000</td>\n",
       "      <td>2.700000</td>\n",
       "      <td>11.100000</td>\n",
       "      <td>2.100000</td>\n",
       "      <td>24.300000</td>\n",
       "      <td>3.100000</td>\n",
       "      <td>1.500000</td>\n",
       "      <td>2.900000</td>\n",
       "    </tr>\n",
       "    <tr>\n",
       "      <th>50%</th>\n",
       "      <td>9.500000</td>\n",
       "      <td>7.800000</td>\n",
       "      <td>2.900000</td>\n",
       "      <td>17.600000</td>\n",
       "      <td>3.400000</td>\n",
       "      <td>28.000000</td>\n",
       "      <td>4.700000</td>\n",
       "      <td>2.400000</td>\n",
       "      <td>3.800000</td>\n",
       "    </tr>\n",
       "    <tr>\n",
       "      <th>75%</th>\n",
       "      <td>10.600000</td>\n",
       "      <td>10.800000</td>\n",
       "      <td>3.700000</td>\n",
       "      <td>23.300000</td>\n",
       "      <td>5.800000</td>\n",
       "      <td>40.100000</td>\n",
       "      <td>5.700000</td>\n",
       "      <td>4.700000</td>\n",
       "      <td>4.900000</td>\n",
       "    </tr>\n",
       "    <tr>\n",
       "      <th>max</th>\n",
       "      <td>18.000000</td>\n",
       "      <td>14.000000</td>\n",
       "      <td>4.700000</td>\n",
       "      <td>33.700000</td>\n",
       "      <td>14.200000</td>\n",
       "      <td>56.700000</td>\n",
       "      <td>6.500000</td>\n",
       "      <td>7.800000</td>\n",
       "      <td>7.900000</td>\n",
       "    </tr>\n",
       "  </tbody>\n",
       "</table>\n",
       "</div>"
      ],
      "text/plain": [
       "         RedMeat  WhiteMeat       Eggs       Milk       Fish    Cereals  \\\n",
       "count  25.000000  25.000000  25.000000  25.000000  25.000000  25.000000   \n",
       "mean    9.828000   7.896000   2.936000  17.112000   4.284000  32.248000   \n",
       "std     3.347078   3.694081   1.117617   7.105416   3.402533  10.974786   \n",
       "min     4.400000   1.400000   0.500000   4.900000   0.200000  18.600000   \n",
       "25%     7.800000   4.900000   2.700000  11.100000   2.100000  24.300000   \n",
       "50%     9.500000   7.800000   2.900000  17.600000   3.400000  28.000000   \n",
       "75%    10.600000  10.800000   3.700000  23.300000   5.800000  40.100000   \n",
       "max    18.000000  14.000000   4.700000  33.700000  14.200000  56.700000   \n",
       "\n",
       "          Starch       Nuts     Fr.Veg  \n",
       "count  25.000000  25.000000  25.000000  \n",
       "mean    4.276000   3.072000   4.136000  \n",
       "std     1.634085   1.985682   1.803903  \n",
       "min     0.600000   0.700000   1.400000  \n",
       "25%     3.100000   1.500000   2.900000  \n",
       "50%     4.700000   2.400000   3.800000  \n",
       "75%     5.700000   4.700000   4.900000  \n",
       "max     6.500000   7.800000   7.900000  "
      ]
     },
     "execution_count": 98,
     "metadata": {},
     "output_type": "execute_result"
    }
   ],
   "source": [
    "data.describe()"
   ]
  },
  {
   "cell_type": "markdown",
   "metadata": {},
   "source": [
    "We use the StandardScaler to z-transform the dataset. That means that every feature will have a mean of 0 and a standard deviation of 1.\n",
    "This has to be done so that all features can be treated equally as many machine-learning algorithms react sensitively on different scales."
   ]
  },
  {
   "cell_type": "code",
   "execution_count": 99,
   "metadata": {},
   "outputs": [
    {
     "data": {
      "application/vnd.microsoft.datawrangler.viewer.v0+json": {
       "columns": [
        {
         "name": "country",
         "rawType": "object",
         "type": "string"
        },
        {
         "name": "RedMeat",
         "rawType": "float64",
         "type": "float"
        },
        {
         "name": "WhiteMeat",
         "rawType": "float64",
         "type": "float"
        },
        {
         "name": "Eggs",
         "rawType": "float64",
         "type": "float"
        },
        {
         "name": "Milk",
         "rawType": "float64",
         "type": "float"
        },
        {
         "name": "Fish",
         "rawType": "float64",
         "type": "float"
        },
        {
         "name": "Cereals",
         "rawType": "float64",
         "type": "float"
        },
        {
         "name": "Starch",
         "rawType": "float64",
         "type": "float"
        },
        {
         "name": "Nuts",
         "rawType": "float64",
         "type": "float"
        },
        {
         "name": "Fr.Veg",
         "rawType": "float64",
         "type": "float"
        }
       ],
       "conversionMethod": "pd.DataFrame",
       "ref": "55318088-e6b7-42d5-801a-6f763120cc5a",
       "rows": [
        [
         "Albania",
         "0.08294064563666281",
         "-1.7947501705149473",
         "-2.2245842500110204",
         "-1.1795702980397118",
         "-1.2250328189285304",
         "0.9348044965424135",
         "-2.2959650864136925",
         "1.2479677108311553",
         "-1.378251406538105"
        ],
        [
         "Austria",
         "-0.2829739674662632",
         "1.6864462809149074",
         "1.2456210660981253",
         "0.40046785082010616",
         "-0.6551105966062464",
         "-0.39505068656110026",
         "-0.4222177362392969",
         "-0.910790273308405",
         "0.09278868254197407"
        ],
        [
         "Belgium",
         "1.1196987160949539",
         "0.38790474744504116",
         "1.062978681039749",
         "0.055732254705236954",
         "0.06479115790611234",
         "-0.5252462988929127",
         "0.8894054088827799",
         "-0.4995982763294411",
         "-0.07694671235188114"
        ],
        [
         "Bulgaria",
         "-0.6183956961439457",
         "-0.5238371803103972",
         "-1.2200511321899519",
         "-1.265754197068429",
         "-0.9250737545483809",
         "2.2739593662410575",
         "-1.9836738613846263",
         "0.32278571762848673",
         "0.03621021757735583"
        ],
        [
         "Czechoslovakia",
         "-0.039030892064312706",
         "0.9681041560166835",
         "-0.12419682183969545",
         "-0.6624669038674077",
         "-0.6851065030442614",
         "0.190829568932056",
         "0.4521976938420875",
         "-1.013588272553146",
         "-0.07694671235188114"
        ]
       ],
       "shape": {
        "columns": 9,
        "rows": 5
       }
      },
      "text/html": [
       "<div>\n",
       "<style scoped>\n",
       "    .dataframe tbody tr th:only-of-type {\n",
       "        vertical-align: middle;\n",
       "    }\n",
       "\n",
       "    .dataframe tbody tr th {\n",
       "        vertical-align: top;\n",
       "    }\n",
       "\n",
       "    .dataframe thead th {\n",
       "        text-align: right;\n",
       "    }\n",
       "</style>\n",
       "<table border=\"1\" class=\"dataframe\">\n",
       "  <thead>\n",
       "    <tr style=\"text-align: right;\">\n",
       "      <th></th>\n",
       "      <th>RedMeat</th>\n",
       "      <th>WhiteMeat</th>\n",
       "      <th>Eggs</th>\n",
       "      <th>Milk</th>\n",
       "      <th>Fish</th>\n",
       "      <th>Cereals</th>\n",
       "      <th>Starch</th>\n",
       "      <th>Nuts</th>\n",
       "      <th>Fr.Veg</th>\n",
       "    </tr>\n",
       "    <tr>\n",
       "      <th>country</th>\n",
       "      <th></th>\n",
       "      <th></th>\n",
       "      <th></th>\n",
       "      <th></th>\n",
       "      <th></th>\n",
       "      <th></th>\n",
       "      <th></th>\n",
       "      <th></th>\n",
       "      <th></th>\n",
       "    </tr>\n",
       "  </thead>\n",
       "  <tbody>\n",
       "    <tr>\n",
       "      <th>Albania</th>\n",
       "      <td>0.082941</td>\n",
       "      <td>-1.794750</td>\n",
       "      <td>-2.224584</td>\n",
       "      <td>-1.179570</td>\n",
       "      <td>-1.225033</td>\n",
       "      <td>0.934804</td>\n",
       "      <td>-2.295965</td>\n",
       "      <td>1.247968</td>\n",
       "      <td>-1.378251</td>\n",
       "    </tr>\n",
       "    <tr>\n",
       "      <th>Austria</th>\n",
       "      <td>-0.282974</td>\n",
       "      <td>1.686446</td>\n",
       "      <td>1.245621</td>\n",
       "      <td>0.400468</td>\n",
       "      <td>-0.655111</td>\n",
       "      <td>-0.395051</td>\n",
       "      <td>-0.422218</td>\n",
       "      <td>-0.910790</td>\n",
       "      <td>0.092789</td>\n",
       "    </tr>\n",
       "    <tr>\n",
       "      <th>Belgium</th>\n",
       "      <td>1.119699</td>\n",
       "      <td>0.387905</td>\n",
       "      <td>1.062979</td>\n",
       "      <td>0.055732</td>\n",
       "      <td>0.064791</td>\n",
       "      <td>-0.525246</td>\n",
       "      <td>0.889405</td>\n",
       "      <td>-0.499598</td>\n",
       "      <td>-0.076947</td>\n",
       "    </tr>\n",
       "    <tr>\n",
       "      <th>Bulgaria</th>\n",
       "      <td>-0.618396</td>\n",
       "      <td>-0.523837</td>\n",
       "      <td>-1.220051</td>\n",
       "      <td>-1.265754</td>\n",
       "      <td>-0.925074</td>\n",
       "      <td>2.273959</td>\n",
       "      <td>-1.983674</td>\n",
       "      <td>0.322786</td>\n",
       "      <td>0.036210</td>\n",
       "    </tr>\n",
       "    <tr>\n",
       "      <th>Czechoslovakia</th>\n",
       "      <td>-0.039031</td>\n",
       "      <td>0.968104</td>\n",
       "      <td>-0.124197</td>\n",
       "      <td>-0.662467</td>\n",
       "      <td>-0.685107</td>\n",
       "      <td>0.190830</td>\n",
       "      <td>0.452198</td>\n",
       "      <td>-1.013588</td>\n",
       "      <td>-0.076947</td>\n",
       "    </tr>\n",
       "  </tbody>\n",
       "</table>\n",
       "</div>"
      ],
      "text/plain": [
       "                 RedMeat  WhiteMeat      Eggs      Milk      Fish   Cereals  \\\n",
       "country                                                                       \n",
       "Albania         0.082941  -1.794750 -2.224584 -1.179570 -1.225033  0.934804   \n",
       "Austria        -0.282974   1.686446  1.245621  0.400468 -0.655111 -0.395051   \n",
       "Belgium         1.119699   0.387905  1.062979  0.055732  0.064791 -0.525246   \n",
       "Bulgaria       -0.618396  -0.523837 -1.220051 -1.265754 -0.925074  2.273959   \n",
       "Czechoslovakia -0.039031   0.968104 -0.124197 -0.662467 -0.685107  0.190830   \n",
       "\n",
       "                  Starch      Nuts    Fr.Veg  \n",
       "country                                       \n",
       "Albania        -2.295965  1.247968 -1.378251  \n",
       "Austria        -0.422218 -0.910790  0.092789  \n",
       "Belgium         0.889405 -0.499598 -0.076947  \n",
       "Bulgaria       -1.983674  0.322786  0.036210  \n",
       "Czechoslovakia  0.452198 -1.013588 -0.076947  "
      ]
     },
     "execution_count": 99,
     "metadata": {},
     "output_type": "execute_result"
    }
   ],
   "source": [
    "data.rename(columns={'Unnamed: 0' : 'country'}, inplace=True)\n",
    "\n",
    "country_names = data['country']\n",
    "data = data.drop(columns='country')\n",
    "\n",
    "scaler = StandardScaler()\n",
    "\n",
    "standardized_data = scaler.fit_transform(data)\n",
    "\n",
    "standardized_data = pd.DataFrame(standardized_data, columns=data.columns, index=country_names)\n",
    "\n",
    "standardized_data.head()"
   ]
  },
  {
   "cell_type": "markdown",
   "metadata": {},
   "source": [
    "We will now use a PCA (Principal Compoentn Analysis) to create uncorrelated variables. Correlation means redundance and the PCA removes that.\n",
    "variance = Streuung der Daten\n",
    "\n",
    "some countries eat a lot of meat, some eat barely any meat -> high variance"
   ]
  },
  {
   "cell_type": "code",
   "execution_count": 100,
   "metadata": {},
   "outputs": [
    {
     "data": {
      "application/vnd.microsoft.datawrangler.viewer.v0+json": {
       "columns": [
        {
         "name": "country",
         "rawType": "object",
         "type": "string"
        },
        {
         "name": "PC1",
         "rawType": "float64",
         "type": "float"
        },
        {
         "name": "PC2",
         "rawType": "float64",
         "type": "float"
        }
       ],
       "conversionMethod": "pd.DataFrame",
       "ref": "5f9a1354-6f07-44b3-97a8-c91bfc63fbc8",
       "rows": [
        [
         "Albania",
         "3.5572381434791387",
         "-1.6641015275335764"
        ],
        [
         "Austria",
         "-1.4520058708506705",
         "-1.0627022428423252"
        ],
        [
         "Belgium",
         "-1.655479830957271",
         "0.16278448898057774"
        ],
        [
         "Bulgaria",
         "3.198708357744614",
         "-1.327894549228694"
        ],
        [
         "Czechoslovakia",
         "-0.3781038823168699",
         "-0.6150958788648476"
        ]
       ],
       "shape": {
        "columns": 2,
        "rows": 5
       }
      },
      "text/html": [
       "<div>\n",
       "<style scoped>\n",
       "    .dataframe tbody tr th:only-of-type {\n",
       "        vertical-align: middle;\n",
       "    }\n",
       "\n",
       "    .dataframe tbody tr th {\n",
       "        vertical-align: top;\n",
       "    }\n",
       "\n",
       "    .dataframe thead th {\n",
       "        text-align: right;\n",
       "    }\n",
       "</style>\n",
       "<table border=\"1\" class=\"dataframe\">\n",
       "  <thead>\n",
       "    <tr style=\"text-align: right;\">\n",
       "      <th></th>\n",
       "      <th>PC1</th>\n",
       "      <th>PC2</th>\n",
       "    </tr>\n",
       "    <tr>\n",
       "      <th>country</th>\n",
       "      <th></th>\n",
       "      <th></th>\n",
       "    </tr>\n",
       "  </thead>\n",
       "  <tbody>\n",
       "    <tr>\n",
       "      <th>Albania</th>\n",
       "      <td>3.557238</td>\n",
       "      <td>-1.664102</td>\n",
       "    </tr>\n",
       "    <tr>\n",
       "      <th>Austria</th>\n",
       "      <td>-1.452006</td>\n",
       "      <td>-1.062702</td>\n",
       "    </tr>\n",
       "    <tr>\n",
       "      <th>Belgium</th>\n",
       "      <td>-1.655480</td>\n",
       "      <td>0.162784</td>\n",
       "    </tr>\n",
       "    <tr>\n",
       "      <th>Bulgaria</th>\n",
       "      <td>3.198708</td>\n",
       "      <td>-1.327895</td>\n",
       "    </tr>\n",
       "    <tr>\n",
       "      <th>Czechoslovakia</th>\n",
       "      <td>-0.378104</td>\n",
       "      <td>-0.615096</td>\n",
       "    </tr>\n",
       "  </tbody>\n",
       "</table>\n",
       "</div>"
      ],
      "text/plain": [
       "                     PC1       PC2\n",
       "country                           \n",
       "Albania         3.557238 -1.664102\n",
       "Austria        -1.452006 -1.062702\n",
       "Belgium        -1.655480  0.162784\n",
       "Bulgaria        3.198708 -1.327895\n",
       "Czechoslovakia -0.378104 -0.615096"
      ]
     },
     "execution_count": 100,
     "metadata": {},
     "output_type": "execute_result"
    }
   ],
   "source": [
    "pca = PCA(n_components=2)\n",
    "\n",
    "pca_components = pca.fit_transform(standardized_data)\n",
    "\n",
    "pca_data = pd.DataFrame(pca_components, columns=['PC1', 'PC2'], index=country_names)\n",
    "\n",
    "pca_data.head()\n"
   ]
  },
  {
   "cell_type": "code",
   "execution_count": 110,
   "metadata": {},
   "outputs": [
    {
     "data": {
      "image/png": "[encoded data removed]",
      "text/plain": [
       "<Figure size 640x480 with 1 Axes>"
      ]
     },
     "metadata": {},
     "output_type": "display_data"
    }
   ],
   "source": [
    "plt.scatter(pca_data['PC1'], pca_data['PC2'])\n",
    "\n",
    "plt.xlabel(\"PC1\")\n",
    "plt.ylabel(\"PC2\")\n",
    "\n",
    "plt.axhline(0, color='gray', linestyle='--')\n",
    "plt.axvline(0, color='gray', linestyle='--')\n",
    "\n",
    "plt.show()"
   ]
  }
 ],
 "metadata": {
  "kernelspec": {
   "display_name": "venv",
   "language": "python",
   "name": "python3"
  },
  "language_info": {
   "codemirror_mode": {
    "name": "ipython",
    "version": 3
   },
   "file_extension": ".py",
   "mimetype": "text/x-python",
   "name": "python",
   "nbconvert_exporter": "python",
   "pygments_lexer": "ipython3",
   "version": "3.13.1"
  }
 },
 "nbformat": 4,
 "nbformat_minor": 2
}
